{
 "cells": [
  {
   "cell_type": "markdown",
   "metadata": {},
   "source": [
    "# Einstein's Theory of Special Relativity and the Twin Paradox\n",
    "\n",
    "An exploration of the thought experiments of Einstein's \n",
    "Special Relavity and how they can be used to explain\n",
    "the [relativity of simultaneity](./simultaneity.html) and derive the Lorentz \n",
    "Transformations for [time dilation](./time-dilation.html) and [length contraction](./length-contraction.html).\n",
    "The Lorentz Transformations explain the so-called \n",
    "[Twin Paradox by means of a practical example](./twin-paradox.html).\n",
    "\n",
    "* [Time Dilation](./time-dilation.html)\n",
    "* [Length Contraction](./length-contraction.html)\n",
    "* [Simultaneity](./simultaneity.html)\n",
    "* [Twin Paradox](./twin-paradox.html)\n",
    "\n",
    "---\n",
    "[Special Relativity](./index.html) Jupyter notebook sources on [Github](https://github.com/tiggerntatie/special-relativity) - © 2018 by Eric Dennison"
   ]
  }
 ],
 "metadata": {
  "kernelspec": {
   "display_name": "Python 3",
   "language": "python",
   "name": "python3"
  },
  "language_info": {
   "codemirror_mode": {
    "name": "ipython",
    "version": 3
   },
   "file_extension": ".py",
   "mimetype": "text/x-python",
   "name": "python",
   "nbconvert_exporter": "python",
   "pygments_lexer": "ipython3",
   "version": "3.5.2"
  }
 },
 "nbformat": 4,
 "nbformat_minor": 2
}
