{
 "cells": [
  {
   "cell_type": "markdown",
   "metadata": {},
   "source": [
    "# The Twin Paradox\n",
    "\n",
    "## Introduction\n",
    "\n",
    "The twin paradox supposes a scenario where an astronaut embarks on a journey near the speed of light, leaving their twin counterpart behind on Earth. Due to the time dilation effect that occurs when traveling at high speeds, the astronaut experiences the journey as a shorter time than the counterpart on Earth and returns younger than their twin. \n",
    "\n",
    "For the paradox, you need only ask what makes the astronaut so special? Why can't the twin on Earth be regarded as the one in motion, and why aren't the roles reversed, making the astronaut the one who is older at the end of the journey? The symmetry of the situation seems to demand that neither twin will be older than the other when the journey is finished!\n",
    "\n",
    "The resolution of this apparent paradox hinges on the full use of the Lorentz Transformations, rather than a simplistic application of the time dilation effect."
   ]
  },
  {
   "cell_type": "markdown",
   "metadata": {},
   "source": [
    "## The Lorentz Transformations\n",
    "\n",
    "The Lorentz Transformations can be used to convert the space-time coordinates of an event in a moving frame ($x^{\\prime}$ and $t^{\\prime}$) to the corresponding space-time coordinates in a stationary observer frame ($x$ and $t$):\n",
    "\n",
    "$$t = \\frac {t^{\\prime} + x^{\\prime} \\left ( \\frac v {c^2} \\right )} {\\sqrt{1-\\frac {v^2}{c^2}}}$$\n",
    "\n",
    "$$x = \\frac {x^{\\prime} + v t^{\\prime}} {\\sqrt{1-\\frac {v^2}{c^2}}}$$\n",
    "\n"
   ]
  },
  {
   "cell_type": "markdown",
   "metadata": {},
   "source": [
    "## The Twin Paradox Scenario\n",
    "\n",
    "Let's set up an actual scenario with our intrepid twins to see exactly what will happen.\n",
    "\n",
    "Let's start with some assumptions:\n",
    "* For the sake of simplicity, let's assume that the spacecraft is capable of instantaneous \n",
    "  acceleration to 8/10 of the speed of light (ouch!).\n",
    "* The destination is a star, two light-years away.\n",
    "* There is a clock on Earth and in the spacecraft.\n",
    "* There is a clock at the destination star, which is synchronized with the Earth clock. Synchronization\n",
    "  means that if, for example, the Earth clock sends out a radio signal at midnight on January 1, 2050, \n",
    "  the destination star's clock will receive that Earth signal at midnight on January 1, 2052.\n",
    "* The Earth twin, an observer at the remote star, and the astronaut all start their stopwatches at\n",
    "  the moment of departure (January 1, 2050).\n",
    "  "
   ]
  },
  {
   "cell_type": "markdown",
   "metadata": {},
   "source": [
    "## What the Twin on Earth Sees\n",
    "\n",
    "At midnight, 1/1/2050, the astronaut departs Earth at 8/10 the speed of light. Although the Earth twin can't directly observe what happens at the distant star, they know that the spacecraft is designed to brake to a stop there, and will return to Earth immediately at 8/10 the speed of light. Therefore, this is a simple time and distance problem and the return time is easy to predict:"
   ]
  },
  {
   "cell_type": "code",
   "execution_count": 8,
   "metadata": {},
   "outputs": [
    {
     "name": "stdout",
     "output_type": "stream",
     "text": [
      "Arrival Time (Earth perspective): 1.578e+08 seconds.\n"
     ]
    }
   ],
   "source": [
    "dly = 2       # remote star is 2 light-years away\n",
    "c = 3.00E8    # the speed of light, meters per second\n",
    "year = 365.25 * 24 * 60 * 60  # (seconds) days per year, hours per day, minutes per hour, seconds per minute\n",
    "v = 8/10 * c\n",
    "d = dly * c * year  # remote star distance, in meters\n",
    "\n",
    "T = 2*d/v     # total time, in seconds for a round trip at 8/10 c\n",
    "print(\"Arrival Time (Earth perspective): {0:.4} seconds.\".format(T))\n"
   ]
  },
  {
   "cell_type": "markdown",
   "metadata": {},
   "source": [
    "## What the Remote Star Observer Sees\n",
    "\n",
    "At midnight, 1/1/2050, the remote observer starts their stopwatch. Knowing that the astronaut was to depart Earth at the same time, the observer expects to see the astronaut arrive somewhat longer than two years later:"
   ]
  },
  {
   "cell_type": "code",
   "execution_count": 7,
   "metadata": {},
   "outputs": [
    {
     "name": "stdout",
     "output_type": "stream",
     "text": [
      "Arrival Time (remote star perspective): 7.889e+07 seconds.\n"
     ]
    }
   ],
   "source": [
    "Tstar = d/v     # total time, in seconds for a one-way trip at 8/10 c\n",
    "print(\"Arrival Time (remote star perspective): {0:.4} seconds.\".format(Tstar))\n"
   ]
  },
  {
   "cell_type": "markdown",
   "metadata": {},
   "source": [
    "This all occurs as expected, and appears to be trivially obvious.\n"
   ]
  },
  {
   "cell_type": "markdown",
   "metadata": {},
   "source": [
    "## What the Astronaut Sees, Outbound\n",
    "\n",
    "Things start getting a little weird. Immediately upon starting their stopwatch at midnight on 1/1/2050, the astronaut observes the Earth falling behind at 8/10 the speed of light. Likewise, the remote star is approaching at the same speed. Because of that relative motion, the astronaut observes a length contraction of the distance between the Earth and the distant star! Furthermore, the astronaut is confident that the remote star will observe an arrival time of $T_{star}=d/v$, so they can predict what their stopwatch will say when they get there:"
   ]
  },
  {
   "cell_type": "code",
   "execution_count": 10,
   "metadata": {},
   "outputs": [
    {
     "name": "stdout",
     "output_type": "stream",
     "text": [
      "Arrival Time at Remote Star (astronaut perspective): 4.734e+07 seconds.\n"
     ]
    }
   ],
   "source": [
    "from math import *\n",
    "\n",
    "gamma = lambda v,c: 1/sqrt(1 - v**2/c**2)\n",
    "t_lorentz = lambda xp,tp,v,c: (tp + xp*(v/c**2))*gamma(v,c)\n",
    "\n",
    "Tastronaut_star = t_lorentz(d, Tstar, -v, c)  # -v because apparent motion of star is opposite astronaut's\n",
    "print(\"Arrival Time at Remote Star (astronaut perspective): {0:.4} seconds.\".format(Tastronaut_star))"
   ]
  },
  {
   "cell_type": "markdown",
   "metadata": {},
   "source": [
    "Someone warned the astronaut that the trip wouldn't take as long as expected from Earth's perspective, and so far it seems to be true."
   ]
  },
  {
   "cell_type": "markdown",
   "metadata": {},
   "source": [
    "## Astronaut, Inbound to Earth Again\n",
    "\n",
    "On the way back, the situation is no different from the outbound one: the gulf between the star and the Earth appears to shrink again, and moves in a direction that is opposite the spacecraft's motion. The Earth observer will see the return trip taking $T_{star}=d/v$ seconds, so it is easy to predict the arrival stopwatch time:"
   ]
  },
  {
   "cell_type": "code",
   "execution_count": 24,
   "metadata": {},
   "outputs": [
    {
     "name": "stdout",
     "output_type": "stream",
     "text": [
      "Arrival Time at Earth (astronaut perspective): 9.467e+07 seconds.\n",
      "Arrival Date (astronaut): 2052-12-31\n",
      "Arrival Date (twin on earth): 2055-01-01\n"
     ]
    }
   ],
   "source": [
    "from datetime import timedelta, date\n",
    "Tastronaut_earth = Tastronaut_star + t_lorentz(d, Tstar, -v, c)\n",
    "print(\"Arrival Time at Earth (astronaut perspective): {0:.4} seconds.\".format(Tastronaut_earth))\n",
    "# translate to dates\n",
    "dta = timedelta(seconds=int(Tastronaut_earth))  # travel time from astronaut perspective\n",
    "dte = timedelta(seconds=int(T))                 # travel time from Earth perspective\n",
    "Dstart = date(2050,1,1)                         # launch date, both perspectives\n",
    "print(\"Arrival Date (astronaut): {}\".format(Dstart + dta))\n",
    "print(\"Arrival Date (twin on earth): {}\".format(Dstart + dte))"
   ]
  },
  {
   "cell_type": "markdown",
   "metadata": {},
   "source": [
    "So the predicted time dilation still occurs for the traveling astronaut. Why? If the astronaut could observe the clocks on the Earth and at the star, wouldn't they also appear to be going slower?\n",
    "\n",
    "The answer, surely, is yes, but the relativity of simultaneity throws a wrinkle into the problem. As soon as the astronaut is accelerated to their travel speed, they would testify that the stopwatches on the Earth and at the remote star *are no longer synchronized*. In fact, it would appear that the stopwatch at the remote star was started *before* the stopwatch on Earth was. Thus, when the astronaut arrives at the remote star the stopwatch will report a longer time because it appears to have started long before the journey even began! On the return journey, the situation is reversed and the Earth stopwatch appears to have been started before the star's stopwatch.\n",
    "\n",
    "If that result seems nonsensical, then go back and think about the simultaneity effect in the [simultaneity](./simultaneity.html) notebook. Once you understand how two events that are clearly simultaneous in one frame of reference can be clearly **not** simultaneous to an observer in a different frame, then the statement about the stopwatches will make perfect sense!"
   ]
  },
  {
   "cell_type": "markdown",
   "metadata": {},
   "source": [
    "---\n",
    "[Special Relativity](./index.html) Jupyter notebook sources on [Github](https://github.com/tiggerntatie/special-relativity) - © 2018 by Eric Dennison"
   ]
  }
 ],
 "metadata": {
  "kernelspec": {
   "display_name": "Python 3",
   "language": "python",
   "name": "python3"
  },
  "language_info": {
   "codemirror_mode": {
    "name": "ipython",
    "version": 3
   },
   "file_extension": ".py",
   "mimetype": "text/x-python",
   "name": "python",
   "nbconvert_exporter": "python",
   "pygments_lexer": "ipython3",
   "version": "3.5.2"
  }
 },
 "nbformat": 4,
 "nbformat_minor": 2
}
