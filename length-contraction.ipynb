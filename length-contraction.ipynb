{
 "cells": [
  {
   "cell_type": "markdown",
   "metadata": {},
   "source": [
    "# Length Contraction\n",
    "\n",
    "## Introduction\n",
    "\n",
    "For this exploration, we'll take our wonderful light clock apparatus and point it in the same direction that the spaceship is moving. For the astronaut with the clock, they can now think of it as a device for measuring its own length, since:\n",
    "\n",
    "$$T_{clock} = \\frac {2d} c$$\n",
    "\n",
    "They can rewrite it as:\n",
    "\n",
    "$$d = \\frac {T_{clock}c} 2$$\n"
   ]
  },
  {
   "cell_type": "markdown",
   "metadata": {},
   "source": [
    "## The View From The Ground\n",
    "\n",
    "For this, let's assume you are observing the spaceship from the ground and you don't know how long the gap in the clock is supposed to be. You see the spaceship going by and observe that the length of the clock appears to be $d_0$. The clock is oriented so the pulse emitter is facing forward and as the clock emits its pulse, you see the pulse racing out ahead of the emitter. As the spaceship goes faster, it is clear that it is going to take longer and longer for the pulse to get to the mirrored end, because it too is moving away in front of the pulse. As long as the spaceship never travels faster than light itself, the pulse will eventually reach the reflector. \n",
    "\n",
    "### Time Forward\n",
    "\n",
    "As you watch the forward-going pulse, you see that the speed of the light pulse, relative to the spaceship is simply $c-v$. Therefore, the time required for the pulse to arrive at the mirror is just: \n",
    "\n",
    "$$T_{forward} = \\frac {d_0} {c-v}$$\n",
    "\n",
    "### Time Backwards\n",
    "\n",
    "Then when the pulse bounces back, the relative speeds are added and the time is:\n",
    "\n",
    "$$T_{backward} = \\frac {d_0} {c+v}$$\n",
    "\n",
    "### Total Time\n",
    "\n",
    "The total time is:\n",
    "\n",
    "$$T_{observed} = T_{forward} + T_{backward} = d_0 \\left ( \\frac 1 {c-v} + \\frac 1 {c+v} \\right ) = \\frac {2 d_0 c} {c^2 - v^2}$$"
   ]
  },
  {
   "cell_type": "markdown",
   "metadata": {},
   "source": [
    "## Observed Length\n",
    "\n",
    "With some rearrangement, you (observing from the ground), can quickly calculate the length of the clock based on the how long you see it taking to complete one tick:\n",
    "\n",
    "$$d_0 = \\frac {T_{observed}(c^2 - v^2)} {2c}$$\n",
    "\n",
    "But you are an astute observer who can't be bothered with actually observing the time for a clock tick. You recall that time passes differently on spaceships and that you should be able to predict the observed time based on the spacecraft velocity and the clock length, as measured when it was stationary. So, starting with the clock frequency equation:\n",
    "\n",
    "$$\\frac {f_{observed}} {f_{clock}} =  \\sqrt {1-\\frac {v^2}{c^2}}$$\n",
    "\n",
    "You rearrange it to refer to times:\n",
    "\n",
    "$$\\frac {T_{observed}} {T_{clock}} =  \\frac {1} {\\sqrt {1-\\frac {v^2}{c^2}}}$$\n",
    "\n",
    "Substituting the known relationship between $T_{clock}$ and $d$:\n",
    "\n",
    "$$\\frac {T_{observed}} {\\frac {2d} {c}} =  \\frac {1} {\\sqrt {1-\\frac {v^2}{c^2}}}$$\n",
    "\n",
    "Rearranging:\n",
    "\n",
    "$$ T_{observed} = \\frac {2d}{c \\sqrt{1-\\frac {v^2}{c^2}}}$$\n",
    "\n",
    "Now we can rewrite our calculation of the observed length, strictly from the known original length and the velocity of the spaceship!\n",
    "\n",
    "$$d_0 = \\frac {\\frac {2d}{c \\sqrt{1-\\frac {v^2}{c^2}}}(c^2 - v^2)} {2c} = \\frac {d \\left ( 1-\\frac {v^2}{c^2} \\right )}{\\sqrt{1-\\frac {v^2}{c^2}}} = d \\sqrt {1-\\frac {v^2}{c^2}}$$"
   ]
  },
  {
   "cell_type": "markdown",
   "metadata": {},
   "source": [
    "## Woah Dude - What Just Happened?\n",
    "\n",
    "Because we *know* exactly how much time is slowed down on a spaceship, and we *know* how much longer it takes for their clock to tick, the clock has to **shrink** along the axis that is parallel to the spacecraft motion, in order for everything to work out properly. And since it doesn't make sense that just the clock would shrink, the whole spacecraft and everything in it shrinks exactly the same way. \n",
    "\n",
    "That's right: you actually *observe* that the spacecraft is shorter than it should be by a factor of $\\sqrt{1-\\frac {v^2}{c^2}}$!\n",
    "\n",
    "## Summing Up So Far\n",
    "\n",
    "So now we know two freaky things about fast spaceships:\n",
    "\n",
    "$$\\frac {T_{stationary}} {T_{spaceship}} = \\frac {T_{observed}} {T_{clock}} = \\frac {1} {\\sqrt {1-\\frac {v^2}{c^2}}}$$\n",
    "\n",
    "and \n",
    "\n",
    "$$\\frac {d_{stationary}} {d_{spaceship}} = \\sqrt {1 - \\frac {v^2}{c^2}}$$\n",
    "\n",
    "Just a reminder: $T_{stationary}$ refers to the duration of a time interval that occurs on the spaceship, as observed from the ground, while $T_{spaceship}$ is the duration of the same interval as measured aboard the spaceship. Furthermore, $d_{stationary}$ refers to the length of a moving spaceship (or part of one), measured along its direction of travel by  a stationary observer, while $d_{spaceship}$ is the length of the same spaceship (or part of one), measured by someone traveling along with it.\n",
    "\n",
    "Let's try a quick calculation for perspective. Remember the spaceship that's traveling at 8/10 of the speed of light? Let's see how much it shrinks:"
   ]
  },
  {
   "cell_type": "code",
   "execution_count": 2,
   "metadata": {},
   "outputs": [
    {
     "name": "stdout",
     "output_type": "stream",
     "text": [
      "ground observer to in-spaceship observer length ratio:  0.6\n"
     ]
    }
   ],
   "source": [
    "from math import *\n",
    "c = 3.00E8 # speed of light, meters per second\n",
    "v = 0.8*c  # a very fast spaceship\n",
    "dr = sqrt(1 - v**2/c**2) # length ratio: ground observer to observer in the spaceship\n",
    "print(\"ground observer to in-spaceship observer length ratio: \", dr)"
   ]
  },
  {
   "cell_type": "markdown",
   "metadata": {},
   "source": [
    "This length ratio would mean that if the spaceship were, say, 100 meters long, and traveling at 8/10 of the speed of light, a ground observer would confidently measure its length as 60 meters. That is, if the observer could take a high-speed photograph of the spaceship as it zoomed by, it would literally appear squashed, relative to its width, by a factor of 60%."
   ]
  }
 ],
 "metadata": {
  "kernelspec": {
   "display_name": "Python 3",
   "language": "python",
   "name": "python3"
  },
  "language_info": {
   "codemirror_mode": {
    "name": "ipython",
    "version": 3
   },
   "file_extension": ".py",
   "mimetype": "text/x-python",
   "name": "python",
   "nbconvert_exporter": "python",
   "pygments_lexer": "ipython3",
   "version": "3.5.2"
  }
 },
 "nbformat": 4,
 "nbformat_minor": 2
}
