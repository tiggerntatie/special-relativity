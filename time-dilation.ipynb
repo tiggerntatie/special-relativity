{
 "cells": [
  {
   "cell_type": "markdown",
   "metadata": {},
   "source": [
    "# Time Dilation\n",
    "\n",
    "## Introduction\n",
    "\n",
    "In physics, it has been observed that the speed of light in a vacuum is the same, no matter where it is measured. This doesn't seem to be an extraordinary statement until some of the [consequences](./twin-paradox.html) are explored."
   ]
  },
  {
   "cell_type": "markdown",
   "metadata": {},
   "source": [
    "## The Clock\n",
    "\n",
    "If it is true that the speed of light (denoted using the symbol $c$) is a constant everywhere, then it should be possible to make a *really awesome clock* using a light emitter, a mirror and a detector -- all inside a glass vacuum chamber (to ensure that the speed of light is used in a *vacuum*).\n",
    "\n",
    "When it is first turned on, the clock emits a brief pulse of light, aimed at a mirror some distance, $d$, away from it, inside the vacuum chamber. The pulse of light travels through the chamber, is reflected from the mirror, and returns to its starting position where the detector detects it. Upon detecting the light pulse, the clock immediately tells the emitter to send another pulse. \n",
    "\n",
    "Let's assume the clock is really *awesome* because its parts are temperature controlled, to ensure the distance $d$ remains constant, and because the light itself always travels at the same speed. The rate at which the clock \"ticks\" is now easy to calculate:\n",
    "\n",
    "$$f_{clock} = \\frac 1 {T_{clock}} = \\frac 1 {\\frac {2d} c} = \\frac c {2d}$$\n",
    "\n",
    "So here is the weird part: if you put the clock in a fast-moving spaceship and watch it through a window from a stationary point, you will reach an alarming conclusion: the occupants of the spacecraft experience the passage of time more slowly than you do!\n",
    "\n"
   ]
  },
  {
   "cell_type": "markdown",
   "metadata": {},
   "source": [
    "## The Observer\n",
    "\n",
    "First of all, some details about how the spaceship-clock: it is oriented so that the light beam points in a direction that is perpendicular to the direction the spaceship is moving. So as you watch the spacecraft zipping by and you watch the light pulse bouncing back and forth it actually makes a slight zig-zag motion, because it is moving sideways while the pulse of light is moving down and up.\n",
    "\n",
    "Because the beam of light that you see is *still* moving at the speed of light, $c$, the *vertical* component of its motion, $c_y$ is reduced, while the horizontal component of its motion $c_x$ is the same as the spaceship velocity, $v$. So Pythagoras would say:\n",
    "\n",
    "$$c^2 = v^2 + c_y^2$$\n",
    "\n",
    "and\n",
    "\n",
    "$$c_y = \\sqrt{c^2-v^2}$$\n",
    "\n",
    "Since the *time* it takes to complete one tick is determined by $c_y$ and $d$, you have to conclude that the frequency of the spaceship clock is now:\n",
    "\n",
    "$$f_{observed} = \\frac 1 {T_{observed}} = \\frac 1 {\\frac {2d} {c_y}} = \\frac {c_y} {2d} = \\frac {\\sqrt{c^2-v^2}} {2d}$$\n",
    "\n",
    "Another way to look at this is to compare the observed (from the ground) frequency to the actual (as observed aboard the spaceship) frequency of the clock:\n",
    "\n",
    "$$\\frac {f_{observed}} {f_{clock}} = \\frac {\\frac {\\sqrt{c^2-v^2}} {2d}} {\\frac c {2d}} = \\frac {\\sqrt{c^2-v^2}} {c} = \\sqrt {1-\\frac {v^2}{c^2}}$$\n",
    "\n",
    "\n",
    "This effect is known as relativistic **time dilation**.\n",
    "\n",
    "## Weird Consequences\n",
    "\n",
    "Let's say the spaceship is traveling at 8/10 the speed of light. In this case we can easily calculate how much more slowly the spaceship's clock appears to be ticking than, say, a reference clock next to the ground observer:"
   ]
  },
  {
   "cell_type": "code",
   "execution_count": 10,
   "metadata": {},
   "outputs": [
    {
     "name": "stdout",
     "output_type": "stream",
     "text": [
      "ground observer to in-spaceship observer frequency ratio:  0.6\n"
     ]
    }
   ],
   "source": [
    "from math import *\n",
    "c = 3.00E8 # speed of light, meters per second\n",
    "v = 0.8*c  # a very fast spaceship\n",
    "fr = sqrt(1 - v**2/c**2) # frequency ratio: ground observer to observer in the spaceship\n",
    "print(\"ground observer to in-spaceship observer frequency ratio: \", fr)"
   ]
  },
  {
   "cell_type": "markdown",
   "metadata": {},
   "source": [
    "This frequency ratio means that, for every 100 minutes that pass to the ground observer, the observer in a spaceship moving at 8/10 the speed of light will see exactly 60 minutes go by. If the spaceship is in flight long enough, the difference in observed time will be *years*. The astronaut in the spaceship will literally return home having aged significantly less than the folks who stayed behind!"
   ]
  },
  {
   "cell_type": "markdown",
   "metadata": {},
   "source": [
    "## And a Paradox!\n",
    "\n",
    "\"Wait a minute,\" you say. \"Can't you say the reverse? Doesn't the astronaut see the *ground observer* moving at 8/10 of the speed of light too? Why doesn't the astronaut find that folks on the ground have had their clocks slowed down?\"\n",
    "\n",
    "This is the **twin paradox**. As we have described the time distorting effect of high speed travel, there is no explanation for why the effect isn't symmetrical. Each participant (astronaut and grounded observer) sees the other traveling at 8/10 the speed of light. No one player should be *special* and have their clock slowed down relative to the other.\n",
    "\n",
    "In order to resolve this paradox, you have to consider some additional weird consequences of the fact that the speed of light in a vacuum *never changes*: do things traveling close to the speed of light change their length (**length contraction**), and can observer and astronaut even agree on when certain events occurred (**simultaneity**)?"
   ]
  },
  {
   "cell_type": "markdown",
   "metadata": {},
   "source": [
    "---\n",
    "[Special Relativity](./index.html) Jupyter notebook sources on [Github](https://github.com/tiggerntatie/special-relativity) - © 2018 by Eric Dennison"
   ]
  }
 ],
 "metadata": {
  "kernelspec": {
   "display_name": "Python 3",
   "language": "python",
   "name": "python3"
  },
  "language_info": {
   "codemirror_mode": {
    "name": "ipython",
    "version": 3
   },
   "file_extension": ".py",
   "mimetype": "text/x-python",
   "name": "python",
   "nbconvert_exporter": "python",
   "pygments_lexer": "ipython3",
   "version": "3.5.2"
  }
 },
 "nbformat": 4,
 "nbformat_minor": 2
}
