{
 "cells": [
  {
   "cell_type": "markdown",
   "metadata": {},
   "source": [
    "# Simultaneity\n",
    "\n",
    "## Introduction\n",
    "\n",
    "Since we have looked at the weird circumstances by which lengths must appear to change as a spaceship moves faster, a similar technique can be used to figure out whether events that happen at the same time on a spaceship also happen at the same time to a stationary observer. This is the question of **simultaneity** and will be measured using a new instrument: the **simultaneitymeter**.\n",
    "\n",
    "## The Simultaneitymeter\n",
    "\n",
    "Now that we have worked with the amazing Light Clock, imagine a new version that has its light emitter in the middle of the vacuum chamber. It emits a light pulse in both directions (forward and backward) at the same time. Instead of a mirror at one end, there is a second detector (so a detector at each end). Obviously, when a pair of pulses is produced by the emitter, they will both travel at the speed of light, $c$, and arrive at their respective ends at exactly the same time, and the signal from both detectors will arrive back at the center of the simultaneitymeter at the exact same time. \n"
   ]
  },
  {
   "cell_type": "markdown",
   "metadata": {},
   "source": [
    "## The View From the Ground\n",
    "\n",
    "Let's assume you are on the ground, watching the behavior of a simultaneitymeter installed aboard a fast spaceship. The length of the s-meter (simultaneitymeter) appears from the ground to be $d_0$ and the distance from the emitter to the leading end is obviously $d_0/2$.\n",
    "\n",
    "### Time Forward\n",
    "\n",
    "Watching the forward-going pulse, it is moving at a spaceship-relative speed that is the *difference* between $c$, the speed of the light pulse itself and $v$, the speed of the spaceship. Therefore the time required for the pulse to arrive at the leading (forward) end is:\n",
    "\n",
    "$$t_f = \\frac {d_0/2} {c-v}$$\n",
    "\n",
    "### Time Backwards\n",
    "\n",
    "Watching the backwards-going pulse, it is moving at a spaceship-relative speed that is the *sum* of $c$ and $v$. Therefore the time required for the pulse to arrive at the trailing (backward) end is:\n",
    "\n",
    "$$t_b = \\frac {d_0/2} {c+v}$$\n",
    "\n",
    "### The Total Time Difference\n",
    "\n",
    "Since these two times are clearly different, the two pulses arrive at their respective ends of the s-meter *at different times* according to the stationary observer. In fact, the difference in time between two events that are simultaneous in the moving platform is:\n",
    "\n",
    "$$\\Delta t_0 = t_f - t_b = \\frac {d_0/2} {c-v} - \\frac {d_0/2} {c+v} = \\frac {d_0 v} {c^2 - v^2} = \\frac {d_0 v} {c^2 \\left (1-\\frac {v^2}{c^2} \\right )}$$\n",
    "\n",
    "Since $d_0$ refers to the stationary observer's assessment of the s-meter's length, we can use the length contraction relationship to put it in terms of the length, $d$, that the astronaut would use to describe it:\n",
    "\n",
    "$$d_0 = d \\sqrt {1 - \\frac {v^2}{c^2}}$$\n",
    "\n",
    "Then combine them:\n",
    "\n",
    "$$\\Delta t_0 = \\frac {d v \\sqrt {1 - \\frac {v^2}{c^2}}} {c^2 \\left (1-\\frac {v^2}{c^2} \\right )} = \\frac {d \\left(\\frac {v} {c^2}\\right)} {\\sqrt{1-\\frac {v^2}{c^2}}} $$"
   ]
  },
  {
   "cell_type": "markdown",
   "metadata": {},
   "source": [
    "## What it Means\n",
    "\n",
    "If a reference frame (aka spaceship) is moving, then events that occur towards the front of the moving frame are delayed by $\\Delta t_0$. The degree to which they are delayed is a function of how far forward the event occurs, and the velocity of the moving frame.\n",
    "\n",
    "From the notebook on [time dilation](./time-dilation.html), we also know that events are delayed purely on the basis of the frame velocity. This effect is:\n",
    "\n",
    "$$\\Delta t_0 = \\frac {\\Delta t} {\\sqrt{1-\\frac {v^2}{c^2}}}$$\n",
    "\n",
    "This suggests that the two effects can be added to produce an observed time delay to an event that is a function of the moving frame's time delay to that event, the *position* of the event (in the moving frame), and the velocity of the moving frame:\n",
    "\n",
    "$$\\Delta t_0 = \\frac {\\Delta t + d \\left ( \\frac v {c^2} \\right )} {\\sqrt{1-\\frac {v^2}{c^2}}}$$\n",
    "\n",
    "Similarly, from the notebook on [length contraction](./length-contraction.html), we should be able to write an expression for an observed position of an event that is also a function of the moving frame's version of the event position and time, and the velocity of the moving frame. Starting with our existing length contraction equation, and a simple statement of position as a function of observed velocity and time:\n",
    "\n",
    "$$d_0 = d \\sqrt{1 - \\frac {v^2}{c^2}} + v \\Delta t_0$$\n",
    "\n",
    "Transform the $\\Delta t_0$ parameter using the new time dilation equation above:\n",
    "\n",
    "$$d_0 = \n",
    "d \\sqrt{1 - \\frac {v^2}{c^2}} + \\frac {v \\left( \\Delta t + d \\left ( \\frac v {c^2} \\right ) \\right )} {\\sqrt{1- \\frac {v^2}{c^2}}} = \n",
    "\\frac {d - d \\frac {v^2}{c^2} + v \\Delta t + d  \\frac {v^2}{c^2}} {\\sqrt{1- \\frac {v^2}{c^2}}} =\n",
    "\\frac {d  + v \\Delta t } {\\sqrt{1- \\frac {v^2}{c^2}}}$$"
   ]
  },
  {
   "cell_type": "markdown",
   "metadata": {},
   "source": [
    "## Lorentz Transformations\n",
    "\n",
    "With these final forms, we have arrived at the conventional expression of the *Lorentz Transformations* that can be used to transform an event in space-time (a position, $x^{\\prime}$, together with a time, $t^{\\prime}$ that occurs in the moving frame), to the corresponding time in the stationary frame ($t$), \n",
    "\n",
    "$$t = \\frac {t^{\\prime} + x^{\\prime} \\left ( \\frac v {c^2} \\right )} {\\sqrt{1-\\frac {v^2}{c^2}}}$$\n",
    "\n",
    "and to the corresponding position in the stationary frame ($x$):\n",
    "\n",
    "$$x = \\frac {x^{\\prime} + v t^{\\prime}} {\\sqrt{1-\\frac {v^2}{c^2}}}$$\n",
    "\n",
    "Both of these transformations assume that motion is in the $x$ direction. The $y$ and $z$ coordinates do not require any transformation.\n",
    "\n",
    "The Lorentz transformations fully account for the observation that time and length undergo expansion and contraction, respectively, as seen by a stationary observer. Furthermore, simultaneous events in one frame are not simultaneous in another. \n",
    "\n",
    "Let's see if these transformations will explain the [twin paradox](./twin-paradox.html)."
   ]
  },
  {
   "cell_type": "markdown",
   "metadata": {},
   "source": [
    "---\n",
    "[Special Relativity](./index.html) Jupyter notebook sources on [Github](https://github.com/tiggerntatie/special-relativity) - © 2018 by Eric Dennison"
   ]
  }
 ],
 "metadata": {
  "kernelspec": {
   "display_name": "Python 3",
   "language": "python",
   "name": "python3"
  },
  "language_info": {
   "codemirror_mode": {
    "name": "ipython",
    "version": 3
   },
   "file_extension": ".py",
   "mimetype": "text/x-python",
   "name": "python",
   "nbconvert_exporter": "python",
   "pygments_lexer": "ipython3",
   "version": "3.5.2"
  }
 },
 "nbformat": 4,
 "nbformat_minor": 2
}
